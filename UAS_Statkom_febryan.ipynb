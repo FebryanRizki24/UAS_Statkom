{
  "nbformat": 4,
  "nbformat_minor": 0,
  "metadata": {
    "colab": {
      "provenance": [],
      "authorship_tag": "ABX9TyPq2s/iDJXAO2p2s0xV7Zov",
      "include_colab_link": true
    },
    "kernelspec": {
      "name": "python3",
      "display_name": "Python 3"
    },
    "language_info": {
      "name": "python"
    }
  },
  "cells": [
    {
      "cell_type": "markdown",
      "metadata": {
        "id": "view-in-github",
        "colab_type": "text"
      },
      "source": [
        "<a href=\"https://colab.research.google.com/github/FebryanRizki24/UAS_Statkom/blob/main/UAS_Statkom_febryan.ipynb\" target=\"_parent\"><img src=\"https://colab.research.google.com/assets/colab-badge.svg\" alt=\"Open In Colab\"/></a>"
      ]
    },
    {
      "cell_type": "code",
      "execution_count": 1,
      "metadata": {
        "colab": {
          "base_uri": "https://localhost:8080/"
        },
        "id": "XzoDN7qM-ls7",
        "outputId": "7fd21279-9d8f-4ca5-ffd0-32971459a162"
      },
      "outputs": [
        {
          "output_type": "stream",
          "name": "stdout",
          "text": [
            "Mean: 2094712.9606993007\n",
            "Median: 2073951.38\n",
            "Simpangan Baku: 266201.4422969776\n",
            "Varians: 70863207880.99112\n"
          ]
        }
      ],
      "source": [
        "#febryan\n",
        "import pandas as pd\n",
        "\n",
        "# Membaca data dari file CSV\n",
        "data = pd.read_csv('Walmart.csv')\n",
        "\n",
        "# Memfilter data hanya untuk Store 4\n",
        "store_4_data = data[data['Store'] == 4]\n",
        "\n",
        "# Menghitung nilai mean\n",
        "mean = store_4_data['Weekly_Sales'].mean()\n",
        "print(\"Mean:\", mean)\n",
        "\n",
        "# Menghitung nilai median\n",
        "median = store_4_data['Weekly_Sales'].median()\n",
        "print(\"Median:\", median)\n",
        "\n",
        "# Menghitung nilai simpangan baku\n",
        "std = store_4_data['Weekly_Sales'].std()\n",
        "print(\"Simpangan Baku:\", std)\n",
        "\n",
        "# Menghitung nilai varians\n",
        "variance = store_4_data['Weekly_Sales'].var()\n",
        "print(\"Varians:\", variance)\n"
      ]
    },
    {
      "cell_type": "code",
      "source": [
        "#febryan\n",
        "import pandas as pd\n",
        "\n",
        "# Membaca data dari file CSV\n",
        "data = pd.read_csv('Walmart.csv')\n",
        "\n",
        "# Memfilter data hanya untuk Store 4\n",
        "store_4_data = data[data['Store'] == 4]\n",
        "\n",
        "# Menghitung nilai mean\n",
        "mean = store_4_data['Temperature'].mean()\n",
        "print(\"Mean:\", mean)\n",
        "\n",
        "# Menghitung nilai median\n",
        "median = store_4_data['Temperature'].median()\n",
        "print(\"Median:\", median)\n",
        "\n",
        "# Menghitung nilai simpangan baku\n",
        "std = store_4_data['Temperature'].std()\n",
        "print(\"Simpangan Baku:\", std)\n",
        "\n",
        "# Menghitung nilai varians\n",
        "variance = store_4_data['Temperature'].var()\n",
        "print(\"Varians:\", variance)\n"
      ],
      "metadata": {
        "colab": {
          "base_uri": "https://localhost:8080/"
        },
        "id": "h4z5Ppyl_YPt",
        "outputId": "6865ab57-09e6-4979-e1fe-b5437d0fef99"
      },
      "execution_count": 2,
      "outputs": [
        {
          "output_type": "stream",
          "name": "stdout",
          "text": [
            "Mean: 62.25335664335664\n",
            "Median: 64.22\n",
            "Simpangan Baku: 16.180022847877108\n",
            "Varians: 261.7931393578253\n"
          ]
        }
      ]
    },
    {
      "cell_type": "code",
      "source": [
        "#febryan\n",
        "import pandas as pd\n",
        "\n",
        "# Membaca data dari file CSV\n",
        "data = pd.read_csv('Walmart.csv')\n",
        "\n",
        "# Memfilter data hanya untuk Store 4\n",
        "store_4_data = data[data['Store'] == 4]\n",
        "\n",
        "# Menghitung nilai mean\n",
        "mean = store_4_data['Fuel_Price'].mean()\n",
        "print(\"Mean:\", mean)\n",
        "\n",
        "# Menghitung nilai median\n",
        "median = store_4_data['Fuel_Price'].median()\n",
        "print(\"Median:\", median)\n",
        "\n",
        "# Menghitung nilai simpangan baku\n",
        "std = store_4_data['Fuel_Price'].std()\n",
        "print(\"Simpangan Baku:\", std)\n",
        "\n",
        "# Menghitung nilai varians\n",
        "variance = store_4_data['Fuel_Price'].var()\n",
        "print(\"Varians:\", variance)"
      ],
      "metadata": {
        "colab": {
          "base_uri": "https://localhost:8080/"
        },
        "id": "FaLHgUpO_neC",
        "outputId": "0064f6a2-cca9-4ec1-b5dd-92da6bae65db"
      },
      "execution_count": 3,
      "outputs": [
        {
          "output_type": "stream",
          "name": "stdout",
          "text": [
            "Mean: 3.216972027972028\n",
            "Median: 3.29\n",
            "Simpangan Baku: 0.41696664412234113\n",
            "Varians: 0.1738611823106471\n"
          ]
        }
      ]
    },
    {
      "cell_type": "code",
      "source": [
        "#febryan\n",
        "import pandas as pd\n",
        "\n",
        "# Membaca data dari file CSV\n",
        "data = pd.read_csv('Walmart.csv')\n",
        "\n",
        "# Memfilter data hanya untuk Store 4\n",
        "store_4_data = data[data['Store'] == 4]\n",
        "\n",
        "# Menghitung nilai mean\n",
        "mean = store_4_data['CPI'].mean()\n",
        "print(\"Mean:\", mean)\n",
        "\n",
        "# Menghitung nilai median\n",
        "median = store_4_data['CPI'].median()\n",
        "print(\"Median:\", median)\n",
        "\n",
        "# Menghitung nilai simpangan baku\n",
        "std = store_4_data['CPI'].std()\n",
        "print(\"Simpangan Baku:\", std)\n",
        "\n",
        "# Menghitung nilai varians\n",
        "variance = store_4_data['CPI'].var()\n",
        "print(\"Varians:\", variance)"
      ],
      "metadata": {
        "colab": {
          "base_uri": "https://localhost:8080/"
        },
        "id": "BnkyyImm_x6O",
        "outputId": "fc6b7e7e-33aa-4cfb-c569-7a44d5c6bc69"
      },
      "execution_count": 4,
      "outputs": [
        {
          "output_type": "stream",
          "name": "stdout",
          "text": [
            "Mean: 128.67966946083916\n",
            "Median: 129.0756774\n",
            "Simpangan Baku: 1.858299967543632\n",
            "Varians: 3.4532787693726634\n"
          ]
        }
      ]
    },
    {
      "cell_type": "code",
      "source": [
        "#febryan\n",
        "import pandas as pd\n",
        "\n",
        "# Membaca data dari file CSV\n",
        "data = pd.read_csv('Walmart.csv')\n",
        "\n",
        "# Memfilter data hanya untuk Store 4\n",
        "store_4_data = data[data['Store'] == 4]\n",
        "\n",
        "# Menghitung nilai mean\n",
        "mean = store_4_data['Unemployment'].mean()\n",
        "print(\"Mean:\", mean)\n",
        "\n",
        "# Menghitung nilai median\n",
        "median = store_4_data['Unemployment'].median()\n",
        "print(\"Median:\", median)\n",
        "\n",
        "# Menghitung nilai simpangan baku\n",
        "std = store_4_data['Unemployment'].std()\n",
        "print(\"Simpangan Baku:\", std)\n",
        "\n",
        "# Menghitung nilai varians\n",
        "variance = store_4_data['Unemployment'].var()\n",
        "print(\"Varians:\", variance)"
      ],
      "metadata": {
        "colab": {
          "base_uri": "https://localhost:8080/"
        },
        "id": "E_4Kg3Ft_7WS",
        "outputId": "285586a7-449d-4e89-b3ec-76acae5f3d60"
      },
      "execution_count": 6,
      "outputs": [
        {
          "output_type": "stream",
          "name": "stdout",
          "text": [
            "Mean: 5.9646923076923075\n",
            "Median: 5.946\n",
            "Simpangan Baku: 1.4212673586129816\n",
            "Varians: 2.0200009046587217\n"
          ]
        }
      ]
    },
    {
      "cell_type": "code",
      "source": [
        "#febryan\n",
        "import pandas as pd\n",
        "\n",
        "# Membaca data dari file CSV\n",
        "data = pd.read_csv('Walmart.csv')\n",
        "\n",
        "# Memfilter data hanya untuk Store 4\n",
        "store_4_data = data[data['Store'] == 4]\n",
        "\n",
        "# Memilih kolom yang diperlukan\n",
        "columns_of_interest = ['Fuel_Price', 'CPI', 'Unemployment']\n",
        "store_4_selected_data = store_4_data[columns_of_interest]\n",
        "\n",
        "# Menghitung Q1, Q2, dan Q3 menggunakan metode quantile()\n",
        "q1 = store_4_selected_data.quantile(0.25)\n",
        "q2 = store_4_selected_data.quantile(0.50)  # Median\n",
        "q3 = store_4_selected_data.quantile(0.75)\n",
        "\n",
        "# Menghitung IQR\n",
        "iqr = q3 - q1\n",
        "\n",
        "# Menampilkan hasil\n",
        "print(\"Q1:\")\n",
        "print(q1)\n",
        "print(\"\\nQ2 (Median):\")\n",
        "print(q2)\n",
        "print(\"\\nQ3:\")\n",
        "print(q3)\n",
        "print(\"\\nIQR:\")\n",
        "print(iqr)"
      ],
      "metadata": {
        "colab": {
          "base_uri": "https://localhost:8080/"
        },
        "id": "cv0apAkjBswf",
        "outputId": "c589c1e2-40ed-4d30-c154-917faf36a6e4"
      },
      "execution_count": 7,
      "outputs": [
        {
          "output_type": "stream",
          "name": "stdout",
          "text": [
            "Q1:\n",
            "Fuel_Price        2.764500\n",
            "CPI             126.590094\n",
            "Unemployment      4.607000\n",
            "Name: 0.25, dtype: float64\n",
            "\n",
            "Q2 (Median):\n",
            "Fuel_Price        3.290000\n",
            "CPI             129.075677\n",
            "Unemployment      5.946000\n",
            "Name: 0.5, dtype: float64\n",
            "\n",
            "Q3:\n",
            "Fuel_Price        3.586500\n",
            "CPI             130.502414\n",
            "Unemployment      7.127000\n",
            "Name: 0.75, dtype: float64\n",
            "\n",
            "IQR:\n",
            "Fuel_Price      0.822000\n",
            "CPI             3.912319\n",
            "Unemployment    2.520000\n",
            "dtype: float64\n"
          ]
        }
      ]
    },
    {
      "cell_type": "code",
      "source": [
        "#febryan\n",
        "import pandas as pd\n",
        "\n",
        "# Membaca data dari file CSV\n",
        "data = pd.read_csv('Walmart.csv')\n",
        "\n",
        "# Memfilter data untuk kelompok liburan (Holiday_Flag = 1)\n",
        "holiday_data = data[data['Holiday_Flag'] == 1]\n",
        "\n",
        "# Memfilter data untuk kelompok non-liburan (Holiday_Flag = 0)\n",
        "non_holiday_data = data[data['Holiday_Flag'] == 0]\n",
        "\n",
        "# Menghitung varians untuk kelompok liburan\n",
        "variance_holiday = holiday_data['Weekly_Sales'].var()\n",
        "\n",
        "# Menghitung varians untuk kelompok non-liburan\n",
        "variance_non_holiday = non_holiday_data['Weekly_Sales'].var()\n",
        "\n",
        "# Menampilkan hasil\n",
        "print(\"Varians Holiday Week:\", variance_holiday)\n",
        "print(\"Varians Non-Holiday Week:\", variance_non_holiday)"
      ],
      "metadata": {
        "colab": {
          "base_uri": "https://localhost:8080/"
        },
        "id": "_YfezrUgC2sy",
        "outputId": "840f5fe9-2e81-4c0f-d9ab-2605973a32da"
      },
      "execution_count": 9,
      "outputs": [
        {
          "output_type": "stream",
          "name": "stdout",
          "text": [
            "Varians Holiday Week: 393988373714.19293\n",
            "Varians Non-Holiday Week: 312433415424.3812\n"
          ]
        }
      ]
    },
    {
      "cell_type": "code",
      "source": [
        "#febryan\n",
        "import pandas as pd\n",
        "\n",
        "# Membaca data dari file CSV\n",
        "data = pd.read_csv('Walmart.csv')\n",
        "\n",
        "# Mengelompokkan data berdasarkan Store dan menghitung rata-rata Weekly_Sales di setiap toko\n",
        "average_sales_per_store = data.groupby('Store')['Weekly_Sales'].mean()\n",
        "\n",
        "# Mengecek apakah rata-rata Weekly_Sales di setiap toko sama atau tidak\n",
        "if average_sales_per_store.nunique() == 1:\n",
        "    print(\"Rata-rata Weekly_Sales di setiap toko sama\")\n",
        "else:\n",
        "    print(\"Rata-rata Weekly_Sales di setiap toko berbeda\")\n"
      ],
      "metadata": {
        "colab": {
          "base_uri": "https://localhost:8080/"
        },
        "id": "HysyWxPnDhKm",
        "outputId": "e213e35e-9d7d-4f81-fe39-c108e22f0598"
      },
      "execution_count": 10,
      "outputs": [
        {
          "output_type": "stream",
          "name": "stdout",
          "text": [
            "Rata-rata Weekly_Sales di setiap toko berbeda\n"
          ]
        }
      ]
    },
    {
      "cell_type": "code",
      "source": [
        "#febryan\n",
        "import pandas as pd\n",
        "\n",
        "# Membaca data dari file CSV\n",
        "data = pd.read_csv('Walmart.csv')\n",
        "\n",
        "# Mengelompokkan data berdasarkan Store dan menghitung rata-rata CPI di setiap toko\n",
        "average_cpi_per_store = data.groupby('Store')['CPI'].mean()\n",
        "\n",
        "# Menemukan toko dengan CPI tertinggi\n",
        "store_with_highest_cpi = average_cpi_per_store.idxmax()\n",
        "\n",
        "# Menampilkan hasil\n",
        "print(\"Toko dengan CPI tertinggi adalah toko dengan id \", store_with_highest_cpi)\n"
      ],
      "metadata": {
        "colab": {
          "base_uri": "https://localhost:8080/"
        },
        "id": "sIbl5obaD6SB",
        "outputId": "7d8db78c-cb57-4cc0-8947-bd25a92f7121"
      },
      "execution_count": 12,
      "outputs": [
        {
          "output_type": "stream",
          "name": "stdout",
          "text": [
            "Toko dengan CPI tertinggi adalah toko dengan id  9\n"
          ]
        }
      ]
    },
    {
      "cell_type": "code",
      "source": [
        "#febryan\n",
        "import pandas as pd\n",
        "\n",
        "# Membaca data dari file CSV\n",
        "data = pd.read_csv('Walmart.csv')\n",
        "\n",
        "# Mengelompokkan data berdasarkan Store dan menjumlahkan CPI di setiap toko\n",
        "total_cpi_per_store = data.groupby('Store')['CPI'].sum()\n",
        "\n",
        "# Menemukan toko dengan total CPI tertinggi\n",
        "store_with_highest_cpi = total_cpi_per_store.idxmax()\n",
        "\n",
        "# Menampilkan hasil\n",
        "print(\"Toko dengan total CPI tertinggi :\", store_with_highest_cpi)\n"
      ],
      "metadata": {
        "colab": {
          "base_uri": "https://localhost:8080/"
        },
        "id": "RnU0YSR3EjlY",
        "outputId": "b5bc5d18-49a4-45f5-c787-20d0fc905ef3"
      },
      "execution_count": 14,
      "outputs": [
        {
          "output_type": "stream",
          "name": "stdout",
          "text": [
            "Toko dengan total CPI tertinggi : 9\n"
          ]
        }
      ]
    },
    {
      "cell_type": "code",
      "source": [
        "#febryan\n",
        "import pandas as pd\n",
        "\n",
        "# Membaca data dari file CSV\n",
        "data = pd.read_csv('Walmart.csv')\n",
        "\n",
        "# Memfilter data hanya untuk minggu liburan (Holiday_Flag = 1)\n",
        "holiday_data = data[data['Holiday_Flag'] == 1]\n",
        "\n",
        "# Memfilter data hanya untuk minggu non-liburan (Holiday_Flag = 0)\n",
        "non_holiday_data = data[data['Holiday_Flag'] == 0]\n",
        "\n",
        "# Menghitung rata-rata CPI untuk minggu liburan\n",
        "mean_cpi_holiday = holiday_data['CPI'].mean()\n",
        "\n",
        "# Menghitung rata-rata CPI untuk minggu non-liburan\n",
        "mean_cpi_non_holiday = non_holiday_data['CPI'].mean()\n",
        "\n",
        "# Menentukan CPI mana yang lebih tinggi\n",
        "if mean_cpi_holiday > mean_cpi_non_holiday:\n",
        "    print(\"Rata-rata CPI lebih tinggi pada minggu liburan\")\n",
        "elif mean_cpi_holiday < mean_cpi_non_holiday:\n",
        "    print(\"Rata-rata CPI lebih tinggi pada minggu non-liburan\")\n",
        "else:\n",
        "    print(\"Rata-rata CPI sama pada minggu liburan dan non-liburan\")\n"
      ],
      "metadata": {
        "colab": {
          "base_uri": "https://localhost:8080/"
        },
        "id": "1ks4miCBFMvF",
        "outputId": "8ef04620-a97d-46cf-f10e-b23e140fb4c1"
      },
      "execution_count": 15,
      "outputs": [
        {
          "output_type": "stream",
          "name": "stdout",
          "text": [
            "Rata-rata CPI lebih tinggi pada minggu non-liburan\n"
          ]
        }
      ]
    },
    {
      "cell_type": "code",
      "source": [
        "#febryan\n",
        "import pandas as pd\n",
        "\n",
        "# Membaca data dari file CSV\n",
        "data = pd.read_csv('Walmart.csv')\n",
        "\n",
        "# Memfilter data hanya untuk minggu liburan (Holiday_Flag = 1)\n",
        "holiday_data = data[data['Holiday_Flag'] == 1]\n",
        "\n",
        "# Memfilter data hanya untuk minggu non-liburan (Holiday_Flag = 0)\n",
        "non_holiday_data = data[data['Holiday_Flag'] == 0]\n",
        "\n",
        "# Menghitung rata-rata CPI untuk minggu liburan\n",
        "mean_cpi_holiday = holiday_data['CPI'].sum()\n",
        "\n",
        "# Menghitung rata-rata CPI untuk minggu non-liburan\n",
        "mean_cpi_non_holiday = non_holiday_data['CPI'].sum()\n",
        "\n",
        "# Menentukan CPI mana yang lebih tinggi\n",
        "if mean_cpi_holiday > mean_cpi_non_holiday:\n",
        "    print(\"CPI lebih tinggi pada minggu liburan\")\n",
        "elif mean_cpi_holiday < mean_cpi_non_holiday:\n",
        "    print(\"CPI lebih tinggi pada minggu non-liburan\")\n",
        "else:\n",
        "    print(\"CPI sama pada minggu liburan dan non-liburan\")\n"
      ],
      "metadata": {
        "colab": {
          "base_uri": "https://localhost:8080/"
        },
        "id": "6N9G0p34FbuA",
        "outputId": "2ef1219d-b810-42a6-d83e-6d92e6e8174d"
      },
      "execution_count": 20,
      "outputs": [
        {
          "output_type": "stream",
          "name": "stdout",
          "text": [
            "CPI lebih tinggi pada minggu non-liburan\n"
          ]
        }
      ]
    },
    {
      "cell_type": "code",
      "source": [
        "#febryan\n",
        "import pandas as pd\n",
        "from scipy import stats\n",
        "\n",
        "# Membaca data dari file CSV\n",
        "data = pd.read_csv('Walmart.csv')\n",
        "\n",
        "# Mendapatkan kolom Weekly_Sales dan Fuel_Price\n",
        "weekly_sales = data['Weekly_Sales']\n",
        "fuel_price = data['Fuel_Price']\n",
        "\n",
        "# Melakukan uji normalitas dengan uji Kolmogorov-Smirnov\n",
        "alpha = 0.05  # Tingkat signifikansi\n",
        "ks_statistic_weekly_sales, p_value_weekly_sales = stats.kstest(weekly_sales, 'norm')\n",
        "ks_statistic_fuel_price, p_value_fuel_price = stats.kstest(fuel_price, 'norm')\n",
        "\n",
        "# Menampilkan hasil analisis\n",
        "if p_value_weekly_sales > alpha:\n",
        "    print(\"Weekly_Sales berdasarkan distribusi normal\")\n",
        "else:\n",
        "    print(\"Weekly_Sales tidak berdasarkan distribusi normal\")\n",
        "\n",
        "if p_value_fuel_price > alpha:\n",
        "    print(\"Fuel_Price berdasarkan distribusi normal\")\n",
        "else:\n",
        "    print(\"Fuel_Price tidak berdasarkan distribusi normal\")\n"
      ],
      "metadata": {
        "colab": {
          "base_uri": "https://localhost:8080/"
        },
        "id": "VzqICK6dGOZi",
        "outputId": "7a24d7f7-512d-42d1-dd78-99be2b4139c0"
      },
      "execution_count": 17,
      "outputs": [
        {
          "output_type": "stream",
          "name": "stdout",
          "text": [
            "Weekly_Sales tidak berdasarkan distribusi normal\n",
            "Fuel_Price tidak berdasarkan distribusi normal\n"
          ]
        }
      ]
    },
    {
      "cell_type": "code",
      "source": [
        "#febryan\n",
        "import pandas as pd\n",
        "import numpy as np\n",
        "\n",
        "# Membaca data dari file CSV\n",
        "data = pd.read_csv('Walmart.csv')\n",
        "\n",
        "# Mendapatkan kolom-kolom yang akan diuji korelasinya\n",
        "dependent_variable = data['Weekly_Sales']\n",
        "independent_variables = data[['Store', 'Holiday_Flag', 'Temperature', 'Fuel_Price', 'CPI', 'Unemployment']]\n",
        "\n",
        "# Menggunakan metode corrcoef dari NumPy\n",
        "correlation_coefficients = np.corrcoef(dependent_variable, independent_variables, rowvar=False)\n",
        "\n",
        "# Menampilkan hasil korelasi\n",
        "for i, variable in enumerate(independent_variables.columns):\n",
        "    correlation = correlation_coefficients[0, i+1]  # Koefisien korelasi antara Y (indeks 0) dan X (indeks i+1)\n",
        "    print(\"Korelasi antara Weekly_Sales dan\", variable, \":\", correlation)\n"
      ],
      "metadata": {
        "colab": {
          "base_uri": "https://localhost:8080/"
        },
        "id": "vizkkwQ7HRXZ",
        "outputId": "70165524-2818-4426-85c4-1e3cbd1cf027"
      },
      "execution_count": 18,
      "outputs": [
        {
          "output_type": "stream",
          "name": "stdout",
          "text": [
            "Korelasi antara Weekly_Sales dan Store : -0.33533201479281594\n",
            "Korelasi antara Weekly_Sales dan Holiday_Flag : 0.03689096801041455\n",
            "Korelasi antara Weekly_Sales dan Temperature : -0.06381001317946956\n",
            "Korelasi antara Weekly_Sales dan Fuel_Price : 0.009463786314475114\n",
            "Korelasi antara Weekly_Sales dan CPI : -0.07263416204017631\n",
            "Korelasi antara Weekly_Sales dan Unemployment : -0.10617608965795429\n"
          ]
        }
      ]
    },
    {
      "cell_type": "code",
      "source": [
        "#febryan\n",
        "import pandas as pd\n",
        "import statsmodels.api as sm\n",
        "\n",
        "# Membaca data dari file CSV\n",
        "data = pd.read_csv('Walmart.csv')\n",
        "\n",
        "# Mendefinisikan variabel dependen (Y) dan variabel independen (X)\n",
        "dependent_variable = data['Weekly_Sales']\n",
        "independent_variable = data['Fuel_Price']\n",
        "\n",
        "# Menambahkan konstanta ke variabel independen\n",
        "independent_variable = sm.add_constant(independent_variable)\n",
        "\n",
        "# Membuat model regresi\n",
        "model = sm.OLS(dependent_variable, independent_variable)\n",
        "\n",
        "# Melakukan fitting model\n",
        "results = model.fit()\n",
        "\n",
        "# Menampilkan parameter a dan b\n",
        "a = results.params[0]\n",
        "b = results.params[1]\n",
        "print(\"Parameter a:\", a)\n",
        "print(\"Parameter b:\", b)\n"
      ],
      "metadata": {
        "colab": {
          "base_uri": "https://localhost:8080/"
        },
        "id": "fdUIUADDH8qQ",
        "outputId": "3804078a-5658-4385-b155-c801e387506f"
      },
      "execution_count": 19,
      "outputs": [
        {
          "output_type": "stream",
          "name": "stdout",
          "text": [
            "Parameter a: 1007884.9200801762\n",
            "Parameter b: 11635.76428297975\n"
          ]
        }
      ]
    },
    {
      "cell_type": "code",
      "source": [
        "import pandas as pd\n",
        "import matplotlib.pyplot as plt\n",
        "import numpy as np\n",
        "\n",
        "# Membaca data dari file CSV (asumsikan file CSV bernama 'data.csv')\n",
        "data = pd.read_csv('Walmart.csv')\n",
        "\n",
        "# Mendapatkan kolom-kolom yang akan digunakan\n",
        "dependent_variable = data['Weekly_Sales']\n",
        "independent_variable = data['Fuel_Price']\n",
        "\n",
        "# Menghitung koefisien regresi\n",
        "X = independent_variable.values.reshape(-1, 1)  # Mengubah bentuk array menjadi matriks (kolom)\n",
        "y = dependent_variable.values.reshape(-1, 1)\n",
        "X = np.hstack((np.ones_like(X), X))  # Menambahkan kolom konstan untuk konstanta (a)\n",
        "coefficients = np.linalg.inv(X.T.dot(X)).dot(X.T).dot(y)  # Menghitung koefisien a dan b\n",
        "\n",
        "a = coefficients[0][0]  # Koefisien konstanta (a)\n",
        "b = coefficients[1][0]  # Koefisien regresi (b)\n",
        "\n",
        "# Menampilkan grafik regresi\n",
        "plt.scatter(independent_variable, dependent_variable, color='orange', label='Data')\n",
        "plt.plot(independent_variable, a + b * independent_variable, color='red', label='Regresi')\n",
        "plt.xlabel('Fuel_Price')\n",
        "plt.ylabel('Weekly_Sales')\n",
        "plt.legend()\n",
        "plt.title('Regresi Linear: Weekly_Sales ~ Fuel_Price')\n",
        "plt.show()\n",
        "\n",
        "# Menampilkan persamaan regresi\n",
        "print(\"Model Regresi: y' = {:.2f} + {:.2f}x\".format(a, b))\n"
      ],
      "metadata": {
        "colab": {
          "base_uri": "https://localhost:8080/",
          "height": 489
        },
        "id": "Bf59AFoGLhsc",
        "outputId": "d6ec80a0-c677-4d98-c081-c8a988d3c897"
      },
      "execution_count": 25,
      "outputs": [
        {
          "output_type": "display_data",
          "data": {
            "text/plain": [
              "<Figure size 640x480 with 1 Axes>"
            ],
            "image/png": "[encoded data removed]"
          },
          "metadata": {}
        },
        {
          "output_type": "stream",
          "name": "stdout",
          "text": [
            "Model Regresi: y' = 1007884.92 + 11635.76x\n"
          ]
        }
      ]
    }
  ]
}